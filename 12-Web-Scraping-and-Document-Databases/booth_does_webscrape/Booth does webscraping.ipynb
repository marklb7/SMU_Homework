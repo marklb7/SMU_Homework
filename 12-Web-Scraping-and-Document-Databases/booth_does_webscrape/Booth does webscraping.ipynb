{
 "cells": [
  {
   "cell_type": "code",
   "execution_count": 1,
   "metadata": {},
   "outputs": [],
   "source": [
    "from splinter import Browser\n",
    "from bs4 import BeautifulSoup\n",
    "from webdriver_manager.chrome import ChromeDriverManager\n",
    "import pandas as pd\n",
    "import time"
   ]
  },
  {
   "cell_type": "code",
   "execution_count": 2,
   "metadata": {},
   "outputs": [
    {
     "name": "stderr",
     "output_type": "stream",
     "text": [
      "[WDM] - Current google-chrome version is 87.0.4280\n",
      "[WDM] - Get LATEST driver version for 87.0.4280\n",
      "[WDM] - Driver [C:\\Users\\abooth\\.wdm\\drivers\\chromedriver\\win32\\87.0.4280.88\\chromedriver.exe] found in cache\n"
     ]
    },
    {
     "name": "stdout",
     "output_type": "stream",
     "text": [
      " \n"
     ]
    }
   ],
   "source": [
    "executable_path = {'executable_path': ChromeDriverManager().install()}\n",
    "browser = Browser('chrome', **executable_path, headless=False)"
   ]
  },
  {
   "cell_type": "code",
   "execution_count": 3,
   "metadata": {},
   "outputs": [],
   "source": [
    "# this will be appended Mongo\n",
    "scraped_data = {}\n",
    "\n",
    "####################################################################\n",
    "\n",
    "# First, get NASA News\n",
    "\n",
    "url = \"https://mars.nasa.gov/news/\"\n",
    "browser.visit(url)\n",
    "time.sleep(1)\n",
    "\n",
    "soup = BeautifulSoup(browser.html)\n",
    "slide = soup.find(\"li\", {\"class\": \"slide\"})\n",
    "news_title = slide.find(\"div\", {\"class\": \"content_title\"}).text.strip()\n",
    "news_p = slide.find(\"div\", {\"class\": \"article_teaser_body\"}).text.strip()\n",
    "\n",
    "########################################################################\n",
    "\n",
    "# NEXT, Get FEATURED URL\n",
    "\n",
    "base = \"https://www.jpl.nasa.gov\"\n",
    "url = f\"{base}/spaceimages/?search=&category=Mars\"\n",
    "browser.visit(url)\n",
    "time.sleep(1)\n",
    "\n",
    "browser.find_by_id(\"full_image\").click()\n",
    "time.sleep(1)\n",
    "\n",
    "browser.find_link_by_partial_text(\"more info\").click()\n",
    "time.sleep(1)\n",
    "\n",
    "soup = BeautifulSoup(browser.html)\n",
    "image = soup.find(\"img\", {\"class\": \"main_image\"})\n",
    "\n",
    "featured_image_url  = base + image[\"src\"]\n",
    "\n",
    "########################################################################\n",
    "\n",
    "# MARS FACTS\n",
    "url = \"https://space-facts.com/mars/\"\n",
    "browser.visit(url)\n",
    "time.sleep(1)\n",
    "\n",
    "dfs = pd.read_html(browser.html)\n",
    "df = dfs[0]\n",
    "df.columns = [\"Statistic\", \"Value\"]\n",
    "mars_facts = df.to_html(index=False)\n",
    "\n",
    "########################################################################\n",
    "\n",
    "# HEMISPHERE Data\n",
    "\n",
    "base = \"https://astrogeology.usgs.gov\"\n",
    "url = f\"{base}/search/results?q=hemisphere+enhanced&k1=target&v1=Mars\"\n",
    "browser.visit(url)\n",
    "time.sleep(1)\n",
    "\n",
    "soup = BeautifulSoup(browser.html)\n",
    "links = soup.find(\"div\", {\"class\": \"results\"}).findAll(\"a\", {\"class\": \"itemLink\"})\n",
    "\n",
    "#filter out non image results\n",
    "realLinks = []\n",
    "for link in links:\n",
    "    image = link.find(\"img\")\n",
    "    if (image):\n",
    "        realLinks.append(base + link[\"href\"]) # append the base url\n",
    "\n",
    "# LOOP through each image link, click, grab the image info\n",
    "hemisphere_data = []\n",
    "for realLink in realLinks:\n",
    "    browser.visit(realLink)\n",
    "    time.sleep(1)\n",
    "    \n",
    "    soup = BeautifulSoup(browser.html)\n",
    "    hemi_url = soup.find(\"ul\").find(\"li\").find(\"a\")[\"href\"]\n",
    "    hemi_title = soup.find(\"h2\", {'class', \"title\"}).text.split(\" Enhanced\")[0]\n",
    "    \n",
    "    hemisphere_data.append({\"title\": hemi_title, \"url\": hemi_url})\n",
    "\n",
    "#exit browser\n",
    "browser.quit()\n",
    "\n",
    "#append data\n",
    "scraped_data[\"news_title\"] = news_title\n",
    "scraped_data[\"news_p\"] = news_p\n",
    "scraped_data[\"featured_image_url\"] = featured_image_url\n",
    "scraped_data[\"mars_facts\"] = mars_facts\n",
    "scraped_data[\"hemispheres\"] = hemisphere_data"
   ]
  },
  {
   "cell_type": "code",
   "execution_count": 4,
   "metadata": {},
   "outputs": [
    {
     "data": {
      "text/plain": [
       "{'news_title': \"A Martian Roundtrip: NASA's Perseverance Rover Sample Tubes\",\n",
       " 'news_p': \"Marvels of engineering, the rover's sample tubes must be tough enough to safely bring Red Planet samples on the long journey back to Earth in immaculate condition.\",\n",
       " 'featured_image_url': 'https://www.jpl.nasa.gov/spaceimages/images/largesize/PIA16567_hires.jpg',\n",
       " 'mars_facts': '<table border=\"1\" class=\"dataframe\">\\n  <thead>\\n    <tr style=\"text-align: right;\">\\n      <th>Statistic</th>\\n      <th>Value</th>\\n    </tr>\\n  </thead>\\n  <tbody>\\n    <tr>\\n      <td>Equatorial Diameter:</td>\\n      <td>6,792 km</td>\\n    </tr>\\n    <tr>\\n      <td>Polar Diameter:</td>\\n      <td>6,752 km</td>\\n    </tr>\\n    <tr>\\n      <td>Mass:</td>\\n      <td>6.39 × 10^23 kg (0.11 Earths)</td>\\n    </tr>\\n    <tr>\\n      <td>Moons:</td>\\n      <td>2 (Phobos &amp; Deimos)</td>\\n    </tr>\\n    <tr>\\n      <td>Orbit Distance:</td>\\n      <td>227,943,824 km (1.38 AU)</td>\\n    </tr>\\n    <tr>\\n      <td>Orbit Period:</td>\\n      <td>687 days (1.9 years)</td>\\n    </tr>\\n    <tr>\\n      <td>Surface Temperature:</td>\\n      <td>-87 to -5 °C</td>\\n    </tr>\\n    <tr>\\n      <td>First Record:</td>\\n      <td>2nd millennium BC</td>\\n    </tr>\\n    <tr>\\n      <td>Recorded By:</td>\\n      <td>Egyptian astronomers</td>\\n    </tr>\\n  </tbody>\\n</table>',\n",
       " 'hemispheres': [{'title': 'Cerberus Hemisphere',\n",
       "   'url': 'https://astropedia.astrogeology.usgs.gov/download/Mars/Viking/cerberus_enhanced.tif/full.jpg'},\n",
       "  {'title': 'Schiaparelli Hemisphere',\n",
       "   'url': 'https://astropedia.astrogeology.usgs.gov/download/Mars/Viking/schiaparelli_enhanced.tif/full.jpg'},\n",
       "  {'title': 'Syrtis Major Hemisphere',\n",
       "   'url': 'https://astropedia.astrogeology.usgs.gov/download/Mars/Viking/syrtis_major_enhanced.tif/full.jpg'},\n",
       "  {'title': 'Valles Marineris Hemisphere',\n",
       "   'url': 'https://astropedia.astrogeology.usgs.gov/download/Mars/Viking/valles_marineris_enhanced.tif/full.jpg'}]}"
      ]
     },
     "execution_count": 4,
     "metadata": {},
     "output_type": "execute_result"
    }
   ],
   "source": [
    "scraped_data"
   ]
  }
 ],
 "metadata": {
  "kernelspec": {
   "display_name": "Python 3",
   "language": "python",
   "name": "python3"
  },
  "language_info": {
   "codemirror_mode": {
    "name": "ipython",
    "version": 3
   },
   "file_extension": ".py",
   "mimetype": "text/x-python",
   "name": "python",
   "nbconvert_exporter": "python",
   "pygments_lexer": "ipython3",
   "version": "3.7.3"
  }
 },
 "nbformat": 4,
 "nbformat_minor": 2
}
